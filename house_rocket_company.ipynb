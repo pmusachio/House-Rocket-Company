{
 "cells": [
  {
   "cell_type": "code",
   "execution_count": 11,
   "id": "2c645ed7",
   "metadata": {},
   "outputs": [],
   "source": [
    "# import dataset\n",
    "import pandas as pd\n",
    "data = pd.read_csv('datasets/kc_house_data.csv')"
   ]
  },
  {
   "cell_type": "code",
   "execution_count": 4,
   "id": "02480eab",
   "metadata": {},
   "outputs": [
    {
     "name": "stdout",
     "output_type": "stream",
     "text": [
      "           id             date     price  bedrooms  bathrooms  sqft_living  \\\n",
      "0  7129300520  20141013T000000  221900.0         3       1.00         1180   \n",
      "1  6414100192  20141209T000000  538000.0         3       2.25         2570   \n",
      "2  5631500400  20150225T000000  180000.0         2       1.00          770   \n",
      "3  2487200875  20141209T000000  604000.0         4       3.00         1960   \n",
      "4  1954400510  20150218T000000  510000.0         3       2.00         1680   \n",
      "\n",
      "   sqft_lot  floors  waterfront  view  ...  grade  sqft_above  sqft_basement  \\\n",
      "0      5650     1.0           0     0  ...      7        1180              0   \n",
      "1      7242     2.0           0     0  ...      7        2170            400   \n",
      "2     10000     1.0           0     0  ...      6         770              0   \n",
      "3      5000     1.0           0     0  ...      7        1050            910   \n",
      "4      8080     1.0           0     0  ...      8        1680              0   \n",
      "\n",
      "   yr_built  yr_renovated  zipcode      lat     long  sqft_living15  \\\n",
      "0      1955             0    98178  47.5112 -122.257           1340   \n",
      "1      1951          1991    98125  47.7210 -122.319           1690   \n",
      "2      1933             0    98028  47.7379 -122.233           2720   \n",
      "3      1965             0    98136  47.5208 -122.393           1360   \n",
      "4      1987             0    98074  47.6168 -122.045           1800   \n",
      "\n",
      "   sqft_lot15  \n",
      "0        5650  \n",
      "1        7639  \n",
      "2        8062  \n",
      "3        5000  \n",
      "4        7503  \n",
      "\n",
      "[5 rows x 21 columns]\n"
     ]
    }
   ],
   "source": [
    "# show the first 5 lines of dataset\n",
    "print(data.head())"
   ]
  },
  {
   "cell_type": "code",
   "execution_count": 5,
   "id": "c3638c3f",
   "metadata": {},
   "outputs": [
    {
     "name": "stdout",
     "output_type": "stream",
     "text": [
      "(21613, 21)\n"
     ]
    }
   ],
   "source": [
    "# show the number of rows and columns in dataset\n",
    "print(data.shape)"
   ]
  },
  {
   "cell_type": "code",
   "execution_count": 6,
   "id": "988f4f49",
   "metadata": {},
   "outputs": [
    {
     "name": "stdout",
     "output_type": "stream",
     "text": [
      "Index(['id', 'date', 'price', 'bedrooms', 'bathrooms', 'sqft_living',\n",
      "       'sqft_lot', 'floors', 'waterfront', 'view', 'condition', 'grade',\n",
      "       'sqft_above', 'sqft_basement', 'yr_built', 'yr_renovated', 'zipcode',\n",
      "       'lat', 'long', 'sqft_living15', 'sqft_lot15'],\n",
      "      dtype='object')\n"
     ]
    }
   ],
   "source": [
    "# show the name of columns of dataset\n",
    "print(data.columns)"
   ]
  },
  {
   "cell_type": "code",
   "execution_count": 7,
   "id": "db80389e",
   "metadata": {},
   "outputs": [
    {
     "name": "stdout",
     "output_type": "stream",
     "text": [
      "               id      price\n",
      "7252   6762700020  7700000.0\n",
      "3914   9808700762  7062500.0\n",
      "9254   9208900037  6885000.0\n",
      "4411   2470100110  5570000.0\n",
      "1448   8907500070  5350000.0\n",
      "...           ...        ...\n",
      "8274   3883800011    82000.0\n",
      "16198  3028200080    81000.0\n",
      "465    8658300340    80000.0\n",
      "15293    40000362    78000.0\n",
      "1149   3421079032    75000.0\n",
      "\n",
      "[21613 rows x 2 columns]\n"
     ]
    }
   ],
   "source": [
    "# sort the dataset by the price column in descending order\n",
    "print(data[['id','price']].sort_values('price', ascending=False))"
   ]
  },
  {
   "cell_type": "code",
   "execution_count": 9,
   "id": "d4cd64e7",
   "metadata": {},
   "outputs": [
    {
     "name": "stdout",
     "output_type": "stream",
     "text": [
      "               id  bedrooms\n",
      "15870  2402100895        33\n",
      "8757   1773100755        11\n",
      "15161  5566100170        10\n",
      "13314   627300145        10\n",
      "19254  8812401450        10\n",
      "...           ...       ...\n",
      "19452  3980300371         0\n",
      "8484   2310060040         0\n",
      "875    6306400140         0\n",
      "8477   2569500210         0\n",
      "9773   3374500520         0\n",
      "\n",
      "[21613 rows x 2 columns]\n"
     ]
    }
   ],
   "source": [
    "# sort the dataset by the bedrooms column in descending order\n",
    "print(data[['id','bedrooms']].sort_values('bedrooms', ascending=False))"
   ]
  },
  {
   "cell_type": "code",
   "execution_count": null,
   "id": "5a4107b8",
   "metadata": {},
   "outputs": [],
   "source": []
  }
 ],
 "metadata": {
  "kernelspec": {
   "display_name": "Python 3 (ipykernel)",
   "language": "python",
   "name": "python3"
  },
  "language_info": {
   "codemirror_mode": {
    "name": "ipython",
    "version": 3
   },
   "file_extension": ".py",
   "mimetype": "text/x-python",
   "name": "python",
   "nbconvert_exporter": "python",
   "pygments_lexer": "ipython3",
   "version": "3.9.5"
  }
 },
 "nbformat": 4,
 "nbformat_minor": 5
}
